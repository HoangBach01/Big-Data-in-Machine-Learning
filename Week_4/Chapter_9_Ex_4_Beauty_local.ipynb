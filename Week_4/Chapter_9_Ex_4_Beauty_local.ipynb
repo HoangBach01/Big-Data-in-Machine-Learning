{
 "cells": [
  {
   "cell_type": "code",
   "execution_count": 1,
   "metadata": {
    "executionInfo": {
     "elapsed": 92412,
     "status": "ok",
     "timestamp": 1620730177836,
     "user": {
      "displayName": "Tran Bach",
      "photoUrl": "https://lh3.googleusercontent.com/a-/AOh14GjVBXJVq0cKT8rYTGTQdgTlZqt5CNRrP9iVXzZUOw=s64",
      "userId": "16544306707432908367"
     },
     "user_tz": -420
    },
    "id": "JqeU-5hMnLix"
   },
   "outputs": [],
   "source": [
    "import findspark\n",
    "findspark.init()\n",
    "from pyspark import SparkContext\n",
    "from pyspark.conf import SparkConf\n",
    "from pyspark.sql import SparkSession\n",
    "from pyspark.sql.functions import *\n",
    "from pyspark.sql.types import *\n",
    "\n",
    "import matplotlib.pyplot as plt\n",
    "import seaborn as sb\n",
    "import numpy as np\n",
    "import pandas as pd\n",
    "\n",
    "%matplotlib inline"
   ]
  },
  {
   "cell_type": "code",
   "execution_count": 2,
   "metadata": {
    "executionInfo": {
     "elapsed": 97694,
     "status": "ok",
     "timestamp": 1620730183120,
     "user": {
      "displayName": "Tran Bach",
      "photoUrl": "https://lh3.googleusercontent.com/a-/AOh14GjVBXJVq0cKT8rYTGTQdgTlZqt5CNRrP9iVXzZUOw=s64",
      "userId": "16544306707432908367"
     },
     "user_tz": -420
    },
    "id": "mGMgQh2XnNFj"
   },
   "outputs": [],
   "source": [
    "\n",
    "spark = SparkSession \\\n",
    "  .builder \\\n",
    "  .master(\"local[*]\")\\\n",
    "  .appName(\"New-Spark\") \\\n",
    "  .config(\"spark.memory.fraction\", 0.8) \\\n",
    "  .config(\"spark.executor.memory\", \"10g\") \\\n",
    "  .config(\"spark.driver.memory\", \"10g\")\\\n",
    "  .config(\"spark.sql.shuffle.partitions\" , \"800\") \\\n",
    "  .config(\"spark.memory.offHeap.enabled\",'true')\\\n",
    "  .config(\"spark.memory.offHeap.size\",\"10g\")\\\n",
    "  .getOrCreate()"
   ]
  },
  {
   "cell_type": "code",
   "execution_count": 3,
   "metadata": {},
   "outputs": [
    {
     "data": {
      "text/html": [
       "\n",
       "            <div>\n",
       "                <p><b>SparkSession - in-memory</b></p>\n",
       "                \n",
       "        <div>\n",
       "            <p><b>SparkContext</b></p>\n",
       "\n",
       "            <p><a href=\"http://192.168.0.101:4040\">Spark UI</a></p>\n",
       "\n",
       "            <dl>\n",
       "              <dt>Version</dt>\n",
       "                <dd><code>v3.1.1</code></dd>\n",
       "              <dt>Master</dt>\n",
       "                <dd><code>local[*]</code></dd>\n",
       "              <dt>AppName</dt>\n",
       "                <dd><code>New-Spark</code></dd>\n",
       "            </dl>\n",
       "        </div>\n",
       "        \n",
       "            </div>\n",
       "        "
      ],
      "text/plain": [
       "<pyspark.sql.session.SparkSession at 0x7fcec71c5890>"
      ]
     },
     "execution_count": 3,
     "metadata": {},
     "output_type": "execute_result"
    }
   ],
   "source": [
    "spark"
   ]
  },
  {
   "cell_type": "code",
   "execution_count": 4,
   "metadata": {
    "colab": {
     "base_uri": "https://localhost:8080/"
    },
    "executionInfo": {
     "elapsed": 113580,
     "status": "ok",
     "timestamp": 1620730199019,
     "user": {
      "displayName": "Tran Bach",
      "photoUrl": "https://lh3.googleusercontent.com/a-/AOh14GjVBXJVq0cKT8rYTGTQdgTlZqt5CNRrP9iVXzZUOw=s64",
      "userId": "16544306707432908367"
     },
     "user_tz": -420
    },
    "id": "O4e6UBkZnO7r",
    "outputId": "f3ed8da9-d3e5-492c-cbd4-25282533e06e"
   },
   "outputs": [
    {
     "name": "stdout",
     "output_type": "stream",
     "text": [
      "+----------+--------------+-----+\n",
      "|product_id|       user_id|label|\n",
      "+----------+--------------+-----+\n",
      "|0205616461|A39HTATAQ9V7YF|  5.0|\n",
      "|0558925278|A3JM6GV9MNOF9X|  3.0|\n",
      "|0558925278|A1Z513UWSAAO0F|  5.0|\n",
      "|0733001998|A1WMRR494NWEWV|  4.0|\n",
      "|0737104473|A3IAAVS479H7M7|  1.0|\n",
      "+----------+--------------+-----+\n",
      "only showing top 5 rows\n",
      "\n"
     ]
    }
   ],
   "source": [
    "df = spark.read.csv(\"ratings_Beauty.csv\", header=False, inferSchema=True)\n",
    "df = df.withColumnRenamed('_c1', 'product_id')\n",
    "df = df.withColumnRenamed('_c0', 'user_id')\n",
    "df = df.withColumnRenamed('_c2', 'label')\n",
    "df = df.select('product_id', 'user_id', 'label')\n",
    "df.show(5)"
   ]
  },
  {
   "cell_type": "code",
   "execution_count": 5,
   "metadata": {
    "colab": {
     "base_uri": "https://localhost:8080/"
    },
    "executionInfo": {
     "elapsed": 116065,
     "status": "ok",
     "timestamp": 1620730201516,
     "user": {
      "displayName": "Tran Bach",
      "photoUrl": "https://lh3.googleusercontent.com/a-/AOh14GjVBXJVq0cKT8rYTGTQdgTlZqt5CNRrP9iVXzZUOw=s64",
      "userId": "16544306707432908367"
     },
     "user_tz": -420
    },
    "id": "M67he-dYsh4z",
    "outputId": "32dc8f43-84bc-47b0-bcc8-c6bbb3fa7b2c"
   },
   "outputs": [
    {
     "data": {
      "text/plain": [
       "2023070"
      ]
     },
     "execution_count": 5,
     "metadata": {},
     "output_type": "execute_result"
    }
   ],
   "source": [
    "df.count()"
   ]
  },
  {
   "cell_type": "code",
   "execution_count": 6,
   "metadata": {
    "colab": {
     "base_uri": "https://localhost:8080/"
    },
    "executionInfo": {
     "elapsed": 116053,
     "status": "ok",
     "timestamp": 1620730201516,
     "user": {
      "displayName": "Tran Bach",
      "photoUrl": "https://lh3.googleusercontent.com/a-/AOh14GjVBXJVq0cKT8rYTGTQdgTlZqt5CNRrP9iVXzZUOw=s64",
      "userId": "16544306707432908367"
     },
     "user_tz": -420
    },
    "id": "MqE2Ow6ltjMm",
    "outputId": "5a1191d5-d61d-4315-d777-d21517fcf182"
   },
   "outputs": [
    {
     "name": "stdout",
     "output_type": "stream",
     "text": [
      "root\n",
      " |-- product_id: string (nullable = true)\n",
      " |-- user_id: string (nullable = true)\n",
      " |-- label: double (nullable = true)\n",
      "\n"
     ]
    }
   ],
   "source": [
    "df.printSchema()"
   ]
  },
  {
   "cell_type": "code",
   "execution_count": 7,
   "metadata": {
    "colab": {
     "base_uri": "https://localhost:8080/"
    },
    "executionInfo": {
     "elapsed": 131897,
     "status": "ok",
     "timestamp": 1620730217372,
     "user": {
      "displayName": "Tran Bach",
      "photoUrl": "https://lh3.googleusercontent.com/a-/AOh14GjVBXJVq0cKT8rYTGTQdgTlZqt5CNRrP9iVXzZUOw=s64",
      "userId": "16544306707432908367"
     },
     "user_tz": -420
    },
    "id": "dKIcISm0usxM",
    "outputId": "c2d73bab-0b5e-4f8b-be02-bf0c5e118ced"
   },
   "outputs": [
    {
     "name": "stdout",
     "output_type": "stream",
     "text": [
      "249274 1210271\n"
     ]
    }
   ],
   "source": [
    "n_product = df.select('product_id').distinct().count()\n",
    "n_user = df.select('user_id').distinct().count()\n",
    "print(n_product, n_user)"
   ]
  },
  {
   "cell_type": "code",
   "execution_count": 8,
   "metadata": {
    "colab": {
     "base_uri": "https://localhost:8080/"
    },
    "executionInfo": {
     "elapsed": 131886,
     "status": "ok",
     "timestamp": 1620730217373,
     "user": {
      "displayName": "Tran Bach",
      "photoUrl": "https://lh3.googleusercontent.com/a-/AOh14GjVBXJVq0cKT8rYTGTQdgTlZqt5CNRrP9iVXzZUOw=s64",
      "userId": "16544306707432908367"
     },
     "user_tz": -420
    },
    "id": "5qco7NckuvvI",
    "outputId": "55b71709-5ada-4f05-9b65-9a63e30da52f"
   },
   "outputs": [
    {
     "data": {
      "text/plain": [
       "301689093254"
      ]
     },
     "execution_count": 8,
     "metadata": {},
     "output_type": "execute_result"
    }
   ],
   "source": [
    "# How big the matrix\n",
    "n_product * n_user"
   ]
  },
  {
   "cell_type": "code",
   "execution_count": 9,
   "metadata": {
    "colab": {
     "base_uri": "https://localhost:8080/"
    },
    "executionInfo": {
     "elapsed": 165299,
     "status": "ok",
     "timestamp": 1620730250798,
     "user": {
      "displayName": "Tran Bach",
      "photoUrl": "https://lh3.googleusercontent.com/a-/AOh14GjVBXJVq0cKT8rYTGTQdgTlZqt5CNRrP9iVXzZUOw=s64",
      "userId": "16544306707432908367"
     },
     "user_tz": -420
    },
    "id": "Nq16N9LfuyIF",
    "outputId": "7d1083ca-fc23-48dd-d871-5b7e6911d517"
   },
   "outputs": [
    {
     "name": "stdout",
     "output_type": "stream",
     "text": [
      "+----------+--------------+-----+-----------+--------+\n",
      "|product_id|       user_id|label|product_idx|user_idx|\n",
      "+----------+--------------+-----+-----------+--------+\n",
      "|0205616461|A39HTATAQ9V7YF|  5.0|   145790.0| 70392.0|\n",
      "|0558925278|A3JM6GV9MNOF9X|  3.0|   103581.0|265306.0|\n",
      "|0558925278|A1Z513UWSAAO0F|  5.0|   103581.0|552933.0|\n",
      "|0733001998|A1WMRR494NWEWV|  4.0|   145791.0|536779.0|\n",
      "|0737104473|A3IAAVS479H7M7|  1.0|   145792.0| 14679.0|\n",
      "+----------+--------------+-----+-----------+--------+\n",
      "only showing top 5 rows\n",
      "\n"
     ]
    }
   ],
   "source": [
    "from pyspark.ml.feature import StringIndexer\n",
    "from pyspark.ml.pipeline import Pipeline\n",
    "\n",
    "indexer_product = StringIndexer(inputCol='product_id', outputCol='product_idx')\n",
    "indexer_user = StringIndexer(inputCol='user_id', outputCol='user_idx')\n",
    "\n",
    "pre_pipeline = Pipeline(stages=[indexer_product, indexer_user])\n",
    "pre_pipeline_fitted = pre_pipeline.fit(df)\n",
    "final_df = pre_pipeline_fitted.transform(df)\n",
    "\n",
    "final_df.show(5)"
   ]
  },
  {
   "cell_type": "code",
   "execution_count": 10,
   "metadata": {
    "executionInfo": {
     "elapsed": 165292,
     "status": "ok",
     "timestamp": 1620730250799,
     "user": {
      "displayName": "Tran Bach",
      "photoUrl": "https://lh3.googleusercontent.com/a-/AOh14GjVBXJVq0cKT8rYTGTQdgTlZqt5CNRrP9iVXzZUOw=s64",
      "userId": "16544306707432908367"
     },
     "user_tz": -420
    },
    "id": "qIa2qCmdu4Pi"
   },
   "outputs": [],
   "source": [
    "# Shoule take 20.000 sample to config the model, and then use model tunned for final all data\n",
    "sample_df = final_df.sample(0.01, seed=42)\n",
    "sample_train_df, sample_test_df = sample_df.randomSplit([0.8, 0.2], seed=42)\n",
    "\n",
    "train_df, test_df = final_df.randomSplit([0.8, 0.2], seed=42)"
   ]
  },
  {
   "cell_type": "code",
   "execution_count": 11,
   "metadata": {},
   "outputs": [
    {
     "data": {
      "text/plain": [
       "20396"
      ]
     },
     "execution_count": 11,
     "metadata": {},
     "output_type": "execute_result"
    }
   ],
   "source": [
    "sample_df.count()"
   ]
  },
  {
   "cell_type": "code",
   "execution_count": 14,
   "metadata": {},
   "outputs": [
    {
     "name": "stdout",
     "output_type": "stream",
     "text": [
      "[Row(rmse=3.275362290061822)]\n",
      "Total time: 1813.96 seconds\n"
     ]
    }
   ],
   "source": [
    "from pyspark.ml.evaluation import RegressionEvaluator\n",
    "from pyspark.ml.recommendation import ALS\n",
    "import time\n",
    "tic = time.time()\n",
    "\n",
    "als = ALS(maxIter=10,           # Number of iterations\n",
    "          regParam=0.1,        # Regularization parameter beta\n",
    "          rank=15,              # Number of features\n",
    "          numItemBlocks=10,     # Number partitioned to parallelize computation\n",
    "          alpha=0.5,            # Learning rate\n",
    "          coldStartStrategy='drop',\n",
    "          nonnegative=True,\n",
    "          userCol='user_idx',     \n",
    "          itemCol='product_idx',\n",
    "          ratingCol='label')\n",
    "model = als.fit(sample_train_df)\n",
    "\n",
    "predictions = model.transform(sample_test_df)\n",
    "# predictions.show(5)\n",
    "\n",
    "predictions = predictions.withColumn('difference', col('label') - col('prediction'))\n",
    "predictions = predictions.withColumn('squared_difference', pow(col('difference'), 2))\n",
    "rmse = predictions.select(sqrt(avg(col('squared_difference'))).alias('rmse'))\n",
    "\n",
    "print(rmse.collect())\n",
    "\n",
    "toc = time.time()\n",
    "print('Total time: {:.2f} seconds'.format(toc-tic))"
   ]
  },
  {
   "cell_type": "code",
   "execution_count": 15,
   "metadata": {
    "id": "4b_l5OZwvBRr"
   },
   "outputs": [
    {
     "name": "stdout",
     "output_type": "stream",
     "text": [
      "+----------+--------------+-----+-----------+--------+----------+\n",
      "|product_id|       user_id|label|product_idx|user_idx|prediction|\n",
      "+----------+--------------+-----+-----------+--------+----------+\n",
      "|B0012134EK|A2F6R85B0XX1CW|  5.0|     1580.0|106667.0|-0.7507449|\n",
      "|B0012134EK|A2BCACN9UIVLIC|  3.0|     1580.0| 22213.0| 1.0593475|\n",
      "|B0012134EK|A3V7BQNYTENDW4|  5.0|     1580.0|280215.0|-1.8660998|\n",
      "|B0012134EK|A2RWVUT42HQAQC|  5.0|     1580.0| 66456.0| 0.2412106|\n",
      "|B0012134EK| ABMSLHPKJJMYM|  5.0|     1580.0| 49476.0| 0.5722452|\n",
      "+----------+--------------+-----+-----------+--------+----------+\n",
      "only showing top 5 rows\n",
      "\n",
      "RMSE: 4.0028\n",
      "Total time: 2509.58 seconds\n"
     ]
    }
   ],
   "source": [
    "from pyspark.ml.evaluation import RegressionEvaluator\n",
    "from pyspark.ml.recommendation import ALS\n",
    "import time\n",
    "\n",
    "tic = time.time()\n",
    "\n",
    "als = ALS(maxIter=5,           # Number of iterations\n",
    "          regParam=0.1,        # Regularization parameter beta\n",
    "          rank=20,              # Number of features\n",
    "          numItemBlocks=10,     # Number partitioned to parallelize computation\n",
    "          alpha=0.001,            # Learning rate\n",
    "          coldStartStrategy='drop',\n",
    "          userCol='user_idx',     \n",
    "          itemCol='product_idx',\n",
    "          ratingCol='label')\n",
    "model = als.fit(train_df)\n",
    "\n",
    "predictions = model.transform(test_df)\n",
    "predictions.show(5)\n",
    "evaluator = RegressionEvaluator(metricName='rmse')\n",
    "rmse = evaluator.evaluate(predictions)\n",
    "print('RMSE: {:.4f}'.format(rmse))\n",
    "\n",
    "toc = time.time()\n",
    "print('Total time: {:.2f} seconds'.format(toc-tic))"
   ]
  },
  {
   "cell_type": "code",
   "execution_count": 19,
   "metadata": {},
   "outputs": [
    {
     "name": "stdout",
     "output_type": "stream",
     "text": [
      "+------------------+\n",
      "|              rmse|\n",
      "+------------------+\n",
      "|16.022636669570772|\n",
      "+------------------+\n",
      "\n",
      "Total time: 1220.98 seconds\n"
     ]
    }
   ],
   "source": [
    "tic = time.time()\n",
    "predictions = predictions.withColumn('difference', col('label') - col('prediction'))\n",
    "predictions = predictions.withColumn('squared_difference', pow(col('difference'), 2))\n",
    "rmse = predictions.select(sqrt(avg(col('squared_difference'))).alias('rmse'))\n",
    "rmse.show()\n",
    "toc = time.time()\n",
    "print('Total time: {:.2f} seconds'.format(toc-tic))"
   ]
  },
  {
   "cell_type": "code",
   "execution_count": 20,
   "metadata": {
    "executionInfo": {
     "elapsed": 1103883,
     "status": "aborted",
     "timestamp": 1620731189397,
     "user": {
      "displayName": "Tran Bach",
      "photoUrl": "https://lh3.googleusercontent.com/a-/AOh14GjVBXJVq0cKT8rYTGTQdgTlZqt5CNRrP9iVXzZUOw=s64",
      "userId": "16544306707432908367"
     },
     "user_tz": -420
    },
    "id": "e6fywBGBvKqq"
   },
   "outputs": [
    {
     "ename": "KeyboardInterrupt",
     "evalue": "",
     "output_type": "error",
     "traceback": [
      "\u001b[0;31m---------------------------------------------------------------------------\u001b[0m",
      "\u001b[0;31mKeyboardInterrupt\u001b[0m                         Traceback (most recent call last)",
      "\u001b[0;32m<ipython-input-20-8e4bc7c8bb9c>\u001b[0m in \u001b[0;36m<module>\u001b[0;34m\u001b[0m\n\u001b[1;32m      1\u001b[0m \u001b[0muser_recom\u001b[0m \u001b[0;34m=\u001b[0m \u001b[0mmodel\u001b[0m\u001b[0;34m.\u001b[0m\u001b[0mrecommendForAllUsers\u001b[0m\u001b[0;34m(\u001b[0m\u001b[0;36m5\u001b[0m\u001b[0;34m)\u001b[0m\u001b[0;34m\u001b[0m\u001b[0;34m\u001b[0m\u001b[0m\n\u001b[0;32m----> 2\u001b[0;31m \u001b[0;32mfor\u001b[0m \u001b[0muser\u001b[0m \u001b[0;32min\u001b[0m \u001b[0muser_recom\u001b[0m\u001b[0;34m.\u001b[0m\u001b[0mhead\u001b[0m\u001b[0;34m(\u001b[0m\u001b[0;36m5\u001b[0m\u001b[0;34m)\u001b[0m\u001b[0;34m:\u001b[0m\u001b[0;34m\u001b[0m\u001b[0;34m\u001b[0m\u001b[0m\n\u001b[0m\u001b[1;32m      3\u001b[0m     \u001b[0mprint\u001b[0m\u001b[0;34m(\u001b[0m\u001b[0muser\u001b[0m\u001b[0;34m)\u001b[0m\u001b[0;34m\u001b[0m\u001b[0;34m\u001b[0m\u001b[0m\n\u001b[1;32m      4\u001b[0m     \u001b[0mprint\u001b[0m\u001b[0;34m(\u001b[0m\u001b[0;34m''\u001b[0m\u001b[0;34m)\u001b[0m\u001b[0;34m\u001b[0m\u001b[0;34m\u001b[0m\u001b[0m\n",
      "\u001b[0;32m~/Documents/Spark/spark-3.1.1-bin-hadoop2.7/python/pyspark/sql/dataframe.py\u001b[0m in \u001b[0;36mhead\u001b[0;34m(self, n)\u001b[0m\n\u001b[1;32m   1587\u001b[0m             \u001b[0mrs\u001b[0m \u001b[0;34m=\u001b[0m \u001b[0mself\u001b[0m\u001b[0;34m.\u001b[0m\u001b[0mhead\u001b[0m\u001b[0;34m(\u001b[0m\u001b[0;36m1\u001b[0m\u001b[0;34m)\u001b[0m\u001b[0;34m\u001b[0m\u001b[0;34m\u001b[0m\u001b[0m\n\u001b[1;32m   1588\u001b[0m             \u001b[0;32mreturn\u001b[0m \u001b[0mrs\u001b[0m\u001b[0;34m[\u001b[0m\u001b[0;36m0\u001b[0m\u001b[0;34m]\u001b[0m \u001b[0;32mif\u001b[0m \u001b[0mrs\u001b[0m \u001b[0;32melse\u001b[0m \u001b[0;32mNone\u001b[0m\u001b[0;34m\u001b[0m\u001b[0;34m\u001b[0m\u001b[0m\n\u001b[0;32m-> 1589\u001b[0;31m         \u001b[0;32mreturn\u001b[0m \u001b[0mself\u001b[0m\u001b[0;34m.\u001b[0m\u001b[0mtake\u001b[0m\u001b[0;34m(\u001b[0m\u001b[0mn\u001b[0m\u001b[0;34m)\u001b[0m\u001b[0;34m\u001b[0m\u001b[0;34m\u001b[0m\u001b[0m\n\u001b[0m\u001b[1;32m   1590\u001b[0m \u001b[0;34m\u001b[0m\u001b[0m\n\u001b[1;32m   1591\u001b[0m     \u001b[0;32mdef\u001b[0m \u001b[0mfirst\u001b[0m\u001b[0;34m(\u001b[0m\u001b[0mself\u001b[0m\u001b[0;34m)\u001b[0m\u001b[0;34m:\u001b[0m\u001b[0;34m\u001b[0m\u001b[0;34m\u001b[0m\u001b[0m\n",
      "\u001b[0;32m~/Documents/Spark/spark-3.1.1-bin-hadoop2.7/python/pyspark/sql/dataframe.py\u001b[0m in \u001b[0;36mtake\u001b[0;34m(self, num)\u001b[0m\n\u001b[1;32m    726\u001b[0m         \u001b[0;34m[\u001b[0m\u001b[0mRow\u001b[0m\u001b[0;34m(\u001b[0m\u001b[0mage\u001b[0m\u001b[0;34m=\u001b[0m\u001b[0;36m2\u001b[0m\u001b[0;34m,\u001b[0m \u001b[0mname\u001b[0m\u001b[0;34m=\u001b[0m\u001b[0;34m'Alice'\u001b[0m\u001b[0;34m)\u001b[0m\u001b[0;34m,\u001b[0m \u001b[0mRow\u001b[0m\u001b[0;34m(\u001b[0m\u001b[0mage\u001b[0m\u001b[0;34m=\u001b[0m\u001b[0;36m5\u001b[0m\u001b[0;34m,\u001b[0m \u001b[0mname\u001b[0m\u001b[0;34m=\u001b[0m\u001b[0;34m'Bob'\u001b[0m\u001b[0;34m)\u001b[0m\u001b[0;34m]\u001b[0m\u001b[0;34m\u001b[0m\u001b[0;34m\u001b[0m\u001b[0m\n\u001b[1;32m    727\u001b[0m         \"\"\"\n\u001b[0;32m--> 728\u001b[0;31m         \u001b[0;32mreturn\u001b[0m \u001b[0mself\u001b[0m\u001b[0;34m.\u001b[0m\u001b[0mlimit\u001b[0m\u001b[0;34m(\u001b[0m\u001b[0mnum\u001b[0m\u001b[0;34m)\u001b[0m\u001b[0;34m.\u001b[0m\u001b[0mcollect\u001b[0m\u001b[0;34m(\u001b[0m\u001b[0;34m)\u001b[0m\u001b[0;34m\u001b[0m\u001b[0;34m\u001b[0m\u001b[0m\n\u001b[0m\u001b[1;32m    729\u001b[0m \u001b[0;34m\u001b[0m\u001b[0m\n\u001b[1;32m    730\u001b[0m     \u001b[0;32mdef\u001b[0m \u001b[0mtail\u001b[0m\u001b[0;34m(\u001b[0m\u001b[0mself\u001b[0m\u001b[0;34m,\u001b[0m \u001b[0mnum\u001b[0m\u001b[0;34m)\u001b[0m\u001b[0;34m:\u001b[0m\u001b[0;34m\u001b[0m\u001b[0;34m\u001b[0m\u001b[0m\n",
      "\u001b[0;32m~/Documents/Spark/spark-3.1.1-bin-hadoop2.7/python/pyspark/sql/dataframe.py\u001b[0m in \u001b[0;36mcollect\u001b[0;34m(self)\u001b[0m\n\u001b[1;32m    675\u001b[0m         \"\"\"\n\u001b[1;32m    676\u001b[0m         \u001b[0;32mwith\u001b[0m \u001b[0mSCCallSiteSync\u001b[0m\u001b[0;34m(\u001b[0m\u001b[0mself\u001b[0m\u001b[0;34m.\u001b[0m\u001b[0m_sc\u001b[0m\u001b[0;34m)\u001b[0m \u001b[0;32mas\u001b[0m \u001b[0mcss\u001b[0m\u001b[0;34m:\u001b[0m\u001b[0;34m\u001b[0m\u001b[0;34m\u001b[0m\u001b[0m\n\u001b[0;32m--> 677\u001b[0;31m             \u001b[0msock_info\u001b[0m \u001b[0;34m=\u001b[0m \u001b[0mself\u001b[0m\u001b[0;34m.\u001b[0m\u001b[0m_jdf\u001b[0m\u001b[0;34m.\u001b[0m\u001b[0mcollectToPython\u001b[0m\u001b[0;34m(\u001b[0m\u001b[0;34m)\u001b[0m\u001b[0;34m\u001b[0m\u001b[0;34m\u001b[0m\u001b[0m\n\u001b[0m\u001b[1;32m    678\u001b[0m         \u001b[0;32mreturn\u001b[0m \u001b[0mlist\u001b[0m\u001b[0;34m(\u001b[0m\u001b[0m_load_from_socket\u001b[0m\u001b[0;34m(\u001b[0m\u001b[0msock_info\u001b[0m\u001b[0;34m,\u001b[0m \u001b[0mBatchedSerializer\u001b[0m\u001b[0;34m(\u001b[0m\u001b[0mPickleSerializer\u001b[0m\u001b[0;34m(\u001b[0m\u001b[0;34m)\u001b[0m\u001b[0;34m)\u001b[0m\u001b[0;34m)\u001b[0m\u001b[0;34m)\u001b[0m\u001b[0;34m\u001b[0m\u001b[0;34m\u001b[0m\u001b[0m\n\u001b[1;32m    679\u001b[0m \u001b[0;34m\u001b[0m\u001b[0m\n",
      "\u001b[0;32m~/Documents/Spark/spark-3.1.1-bin-hadoop2.7/python/lib/py4j-0.10.9-src.zip/py4j/java_gateway.py\u001b[0m in \u001b[0;36m__call__\u001b[0;34m(self, *args)\u001b[0m\n\u001b[1;32m   1301\u001b[0m             \u001b[0mproto\u001b[0m\u001b[0;34m.\u001b[0m\u001b[0mEND_COMMAND_PART\u001b[0m\u001b[0;34m\u001b[0m\u001b[0;34m\u001b[0m\u001b[0m\n\u001b[1;32m   1302\u001b[0m \u001b[0;34m\u001b[0m\u001b[0m\n\u001b[0;32m-> 1303\u001b[0;31m         \u001b[0manswer\u001b[0m \u001b[0;34m=\u001b[0m \u001b[0mself\u001b[0m\u001b[0;34m.\u001b[0m\u001b[0mgateway_client\u001b[0m\u001b[0;34m.\u001b[0m\u001b[0msend_command\u001b[0m\u001b[0;34m(\u001b[0m\u001b[0mcommand\u001b[0m\u001b[0;34m)\u001b[0m\u001b[0;34m\u001b[0m\u001b[0;34m\u001b[0m\u001b[0m\n\u001b[0m\u001b[1;32m   1304\u001b[0m         return_value = get_return_value(\n\u001b[1;32m   1305\u001b[0m             answer, self.gateway_client, self.target_id, self.name)\n",
      "\u001b[0;32m~/Documents/Spark/spark-3.1.1-bin-hadoop2.7/python/lib/py4j-0.10.9-src.zip/py4j/java_gateway.py\u001b[0m in \u001b[0;36msend_command\u001b[0;34m(self, command, retry, binary)\u001b[0m\n\u001b[1;32m   1031\u001b[0m         \u001b[0mconnection\u001b[0m \u001b[0;34m=\u001b[0m \u001b[0mself\u001b[0m\u001b[0;34m.\u001b[0m\u001b[0m_get_connection\u001b[0m\u001b[0;34m(\u001b[0m\u001b[0;34m)\u001b[0m\u001b[0;34m\u001b[0m\u001b[0;34m\u001b[0m\u001b[0m\n\u001b[1;32m   1032\u001b[0m         \u001b[0;32mtry\u001b[0m\u001b[0;34m:\u001b[0m\u001b[0;34m\u001b[0m\u001b[0;34m\u001b[0m\u001b[0m\n\u001b[0;32m-> 1033\u001b[0;31m             \u001b[0mresponse\u001b[0m \u001b[0;34m=\u001b[0m \u001b[0mconnection\u001b[0m\u001b[0;34m.\u001b[0m\u001b[0msend_command\u001b[0m\u001b[0;34m(\u001b[0m\u001b[0mcommand\u001b[0m\u001b[0;34m)\u001b[0m\u001b[0;34m\u001b[0m\u001b[0;34m\u001b[0m\u001b[0m\n\u001b[0m\u001b[1;32m   1034\u001b[0m             \u001b[0;32mif\u001b[0m \u001b[0mbinary\u001b[0m\u001b[0;34m:\u001b[0m\u001b[0;34m\u001b[0m\u001b[0;34m\u001b[0m\u001b[0m\n\u001b[1;32m   1035\u001b[0m                 \u001b[0;32mreturn\u001b[0m \u001b[0mresponse\u001b[0m\u001b[0;34m,\u001b[0m \u001b[0mself\u001b[0m\u001b[0;34m.\u001b[0m\u001b[0m_create_connection_guard\u001b[0m\u001b[0;34m(\u001b[0m\u001b[0mconnection\u001b[0m\u001b[0;34m)\u001b[0m\u001b[0;34m\u001b[0m\u001b[0;34m\u001b[0m\u001b[0m\n",
      "\u001b[0;32m~/Documents/Spark/spark-3.1.1-bin-hadoop2.7/python/lib/py4j-0.10.9-src.zip/py4j/java_gateway.py\u001b[0m in \u001b[0;36msend_command\u001b[0;34m(self, command)\u001b[0m\n\u001b[1;32m   1198\u001b[0m \u001b[0;34m\u001b[0m\u001b[0m\n\u001b[1;32m   1199\u001b[0m         \u001b[0;32mtry\u001b[0m\u001b[0;34m:\u001b[0m\u001b[0;34m\u001b[0m\u001b[0;34m\u001b[0m\u001b[0m\n\u001b[0;32m-> 1200\u001b[0;31m             \u001b[0manswer\u001b[0m \u001b[0;34m=\u001b[0m \u001b[0msmart_decode\u001b[0m\u001b[0;34m(\u001b[0m\u001b[0mself\u001b[0m\u001b[0;34m.\u001b[0m\u001b[0mstream\u001b[0m\u001b[0;34m.\u001b[0m\u001b[0mreadline\u001b[0m\u001b[0;34m(\u001b[0m\u001b[0;34m)\u001b[0m\u001b[0;34m[\u001b[0m\u001b[0;34m:\u001b[0m\u001b[0;34m-\u001b[0m\u001b[0;36m1\u001b[0m\u001b[0;34m]\u001b[0m\u001b[0;34m)\u001b[0m\u001b[0;34m\u001b[0m\u001b[0;34m\u001b[0m\u001b[0m\n\u001b[0m\u001b[1;32m   1201\u001b[0m             \u001b[0mlogger\u001b[0m\u001b[0;34m.\u001b[0m\u001b[0mdebug\u001b[0m\u001b[0;34m(\u001b[0m\u001b[0;34m\"Answer received: {0}\"\u001b[0m\u001b[0;34m.\u001b[0m\u001b[0mformat\u001b[0m\u001b[0;34m(\u001b[0m\u001b[0manswer\u001b[0m\u001b[0;34m)\u001b[0m\u001b[0;34m)\u001b[0m\u001b[0;34m\u001b[0m\u001b[0;34m\u001b[0m\u001b[0m\n\u001b[1;32m   1202\u001b[0m             \u001b[0;32mif\u001b[0m \u001b[0manswer\u001b[0m\u001b[0;34m.\u001b[0m\u001b[0mstartswith\u001b[0m\u001b[0;34m(\u001b[0m\u001b[0mproto\u001b[0m\u001b[0;34m.\u001b[0m\u001b[0mRETURN_MESSAGE\u001b[0m\u001b[0;34m)\u001b[0m\u001b[0;34m:\u001b[0m\u001b[0;34m\u001b[0m\u001b[0;34m\u001b[0m\u001b[0m\n",
      "\u001b[0;32m~/opt/anaconda3/envs/deep_learning/lib/python3.7/socket.py\u001b[0m in \u001b[0;36mreadinto\u001b[0;34m(self, b)\u001b[0m\n\u001b[1;32m    587\u001b[0m         \u001b[0;32mwhile\u001b[0m \u001b[0;32mTrue\u001b[0m\u001b[0;34m:\u001b[0m\u001b[0;34m\u001b[0m\u001b[0;34m\u001b[0m\u001b[0m\n\u001b[1;32m    588\u001b[0m             \u001b[0;32mtry\u001b[0m\u001b[0;34m:\u001b[0m\u001b[0;34m\u001b[0m\u001b[0;34m\u001b[0m\u001b[0m\n\u001b[0;32m--> 589\u001b[0;31m                 \u001b[0;32mreturn\u001b[0m \u001b[0mself\u001b[0m\u001b[0;34m.\u001b[0m\u001b[0m_sock\u001b[0m\u001b[0;34m.\u001b[0m\u001b[0mrecv_into\u001b[0m\u001b[0;34m(\u001b[0m\u001b[0mb\u001b[0m\u001b[0;34m)\u001b[0m\u001b[0;34m\u001b[0m\u001b[0;34m\u001b[0m\u001b[0m\n\u001b[0m\u001b[1;32m    590\u001b[0m             \u001b[0;32mexcept\u001b[0m \u001b[0mtimeout\u001b[0m\u001b[0;34m:\u001b[0m\u001b[0;34m\u001b[0m\u001b[0;34m\u001b[0m\u001b[0m\n\u001b[1;32m    591\u001b[0m                 \u001b[0mself\u001b[0m\u001b[0;34m.\u001b[0m\u001b[0m_timeout_occurred\u001b[0m \u001b[0;34m=\u001b[0m \u001b[0;32mTrue\u001b[0m\u001b[0;34m\u001b[0m\u001b[0;34m\u001b[0m\u001b[0m\n",
      "\u001b[0;31mKeyboardInterrupt\u001b[0m: "
     ]
    }
   ],
   "source": [
    "user_recom = model.recommendForAllUsers(5)\n",
    "for user in user_recom.head(5):\n",
    "    print(user)\n",
    "    print('')"
   ]
  },
  {
   "cell_type": "code",
   "execution_count": null,
   "metadata": {
    "executionInfo": {
     "elapsed": 1103882,
     "status": "aborted",
     "timestamp": 1620731189398,
     "user": {
      "displayName": "Tran Bach",
      "photoUrl": "https://lh3.googleusercontent.com/a-/AOh14GjVBXJVq0cKT8rYTGTQdgTlZqt5CNRrP9iVXzZUOw=s64",
      "userId": "16544306707432908367"
     },
     "user_tz": -420
    },
    "id": "9RxKwVeyvurZ"
   },
   "outputs": [],
   "source": [
    "product_label = pre_pipeline_fitted.stages[0].labels\n",
    "user_label = pre_pipeline_fitted.stages[1].labels\n",
    "\n",
    "def convert_product(list_tuple, product_label):\n",
    "    converted = []\n",
    "    for product_idx, rating in list_tuple:\n",
    "        converted.append((product_label[product_idx], rating))\n",
    "    return converted\n",
    "\n",
    "convert_recom = udf(lambda x: convert_product(x, product_label), ArrayType(ArrayType(StringType())))\n",
    "user_recom = user_recom.withColumn('recommendation_product', convert_recom('recommendations'))\n",
    "\n",
    "convert_user = udf(lambda x: user_label[x], StringType())\n",
    "user_recom = user_recom.withColumn('user_id', convert_user('user_idx'))\n",
    "\n",
    "user_recom_by_id = user_recom.select('user_id', 'recommendation_product')\n",
    "user_recom_by_id.toPandas()"
   ]
  },
  {
   "cell_type": "code",
   "execution_count": null,
   "metadata": {
    "id": "fuoaKJLUwFqM"
   },
   "outputs": [],
   "source": []
  }
 ],
 "metadata": {
  "colab": {
   "authorship_tag": "ABX9TyNuVAl5fJnjjSuC7yY6xpXJ",
   "collapsed_sections": [],
   "name": "Chapter_9_Ex_4_Beauty.ipynb",
   "provenance": []
  },
  "kernelspec": {
   "display_name": "Python 3.7.9 - Deep learning",
   "language": "python",
   "name": "deep_learning"
  },
  "language_info": {
   "codemirror_mode": {
    "name": "ipython",
    "version": 3
   },
   "file_extension": ".py",
   "mimetype": "text/x-python",
   "name": "python",
   "nbconvert_exporter": "python",
   "pygments_lexer": "ipython3",
   "version": "3.7.7"
  }
 },
 "nbformat": 4,
 "nbformat_minor": 4
}
